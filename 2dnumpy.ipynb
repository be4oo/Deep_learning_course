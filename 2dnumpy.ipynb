{
  "nbformat": 4,
  "nbformat_minor": 0,
  "metadata": {
    "colab": {
      "name": "2dnumpy.ipynb",
      "provenance": [],
      "collapsed_sections": [],
      "authorship_tag": "ABX9TyOT09lLjVFKF6Pxcey3p+qh",
      "include_colab_link": true
    },
    "kernelspec": {
      "name": "python3",
      "display_name": "Python 3"
    }
  },
  "cells": [
    {
      "cell_type": "markdown",
      "metadata": {
        "id": "view-in-github",
        "colab_type": "text"
      },
      "source": [
        "<a href=\"https://colab.research.google.com/github/be4oo/Deep_learning_course/blob/main/2dnumpy.ipynb\" target=\"_parent\"><img src=\"https://colab.research.google.com/assets/colab-badge.svg\" alt=\"Open In Colab\"/></a>"
      ]
    },
    {
      "cell_type": "code",
      "metadata": {
        "colab": {
          "base_uri": "https://localhost:8080/"
        },
        "id": "0TkHI3DKears",
        "outputId": "f322e9b4-f9c5-4ba2-99b0-46744ddf07c2"
      },
      "source": [
        "import numpy as np\r\n",
        "arr = np.array([[10,20,30,40],[50,60,70,80]])\r\n",
        "print(arr)\r\n",
        "print(arr.shape)\r\n",
        "print(type(arr))"
      ],
      "execution_count": 2,
      "outputs": [
        {
          "output_type": "stream",
          "text": [
            "[[10 20 30 40]\n",
            " [50 60 70 80]]\n",
            "(2, 4)\n",
            "<class 'numpy.ndarray'>\n"
          ],
          "name": "stdout"
        }
      ]
    },
    {
      "cell_type": "code",
      "metadata": {
        "colab": {
          "base_uri": "https://localhost:8080/"
        },
        "id": "CBfXTryifw7X",
        "outputId": "934f0af0-fb05-41a1-a29e-9da6eea865ff"
      },
      "source": [
        "y = np.array([1,2,3,4,5,6])\r\n",
        "print(y[0:3])"
      ],
      "execution_count": 3,
      "outputs": [
        {
          "output_type": "stream",
          "text": [
            "[1 2 3]\n"
          ],
          "name": "stdout"
        }
      ]
    },
    {
      "cell_type": "code",
      "metadata": {
        "colab": {
          "base_uri": "https://localhost:8080/"
        },
        "id": "ftYexXOCgXxQ",
        "outputId": "934122d1-f85f-4012-e908-79ac76f1b1c7"
      },
      "source": [
        "print(arr[1:2,2:3])"
      ],
      "execution_count": 4,
      "outputs": [
        {
          "output_type": "stream",
          "text": [
            "[[70]]\n"
          ],
          "name": "stdout"
        }
      ]
    },
    {
      "cell_type": "code",
      "metadata": {
        "colab": {
          "base_uri": "https://localhost:8080/"
        },
        "id": "Q26ZG1fngzvl",
        "outputId": "3c392b57-89d6-420b-e617-f3097a4096f5"
      },
      "source": [
        "zeroarr = np.zeros((3,3))\r\n",
        "print(zeroarr)"
      ],
      "execution_count": 5,
      "outputs": [
        {
          "output_type": "stream",
          "text": [
            "[[0. 0. 0.]\n",
            " [0. 0. 0.]\n",
            " [0. 0. 0.]]\n"
          ],
          "name": "stdout"
        }
      ]
    },
    {
      "cell_type": "code",
      "metadata": {
        "colab": {
          "base_uri": "https://localhost:8080/"
        },
        "id": "AO7uDHClhCHF",
        "outputId": "21bc9542-5459-4f95-b37e-b082e8c0ae5f"
      },
      "source": [
        "onearr = np.ones(((3,3)))\r\n",
        "print((onearr))"
      ],
      "execution_count": 6,
      "outputs": [
        {
          "output_type": "stream",
          "text": [
            "[[1. 1. 1.]\n",
            " [1. 1. 1.]\n",
            " [1. 1. 1.]]\n"
          ],
          "name": "stdout"
        }
      ]
    },
    {
      "cell_type": "code",
      "metadata": {
        "colab": {
          "base_uri": "https://localhost:8080/"
        },
        "id": "Gl144VvWhP2l",
        "outputId": "6537874e-bf64-4638-cdfb-5cb71d3f0b08"
      },
      "source": [
        "constarr = np.full((3,3),7)\r\n",
        "print(constarr)"
      ],
      "execution_count": 7,
      "outputs": [
        {
          "output_type": "stream",
          "text": [
            "[[7 7 7]\n",
            " [7 7 7]\n",
            " [7 7 7]]\n"
          ],
          "name": "stdout"
        }
      ]
    },
    {
      "cell_type": "code",
      "metadata": {
        "colab": {
          "base_uri": "https://localhost:8080/"
        },
        "id": "HgQMfhXohhK5",
        "outputId": "bc95a1db-aeae-4dc5-f441-ff95c420db4f"
      },
      "source": [
        "ident = np.eye(3)\r\n",
        "print(ident)"
      ],
      "execution_count": 8,
      "outputs": [
        {
          "output_type": "stream",
          "text": [
            "[[1. 0. 0.]\n",
            " [0. 1. 0.]\n",
            " [0. 0. 1.]]\n"
          ],
          "name": "stdout"
        }
      ]
    },
    {
      "cell_type": "code",
      "metadata": {
        "colab": {
          "base_uri": "https://localhost:8080/"
        },
        "id": "xYcgB_jrhsRU",
        "outputId": "e0b4bc15-c7df-4d04-9d9b-373dff55fcb7"
      },
      "source": [
        "randarr = np.random.random((3,3))\r\n",
        "print(randarr)"
      ],
      "execution_count": 9,
      "outputs": [
        {
          "output_type": "stream",
          "text": [
            "[[0.85208126 0.78006978 0.6517654 ]\n",
            " [0.20102624 0.45908144 0.16813194]\n",
            " [0.20392626 0.28115669 0.81061306]]\n"
          ],
          "name": "stdout"
        }
      ]
    }
  ]
}